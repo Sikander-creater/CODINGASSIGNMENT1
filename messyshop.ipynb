{
  "nbformat": 4,
  "nbformat_minor": 0,
  "metadata": {
    "colab": {
      "provenance": [],
      "authorship_tag": "ABX9TyPidhO80uCRi08+5Fkj1KcP",
      "include_colab_link": true
    },
    "kernelspec": {
      "name": "python3",
      "display_name": "Python 3"
    },
    "language_info": {
      "name": "python"
    }
  },
  "cells": [
    {
      "cell_type": "markdown",
      "metadata": {
        "id": "view-in-github",
        "colab_type": "text"
      },
      "source": [
        "<a href=\"https://colab.research.google.com/github/Sikander-creater/CODINGASSIGNMENT1/blob/main/messyshop.ipynb\" target=\"_parent\"><img src=\"https://colab.research.google.com/assets/colab-badge.svg\" alt=\"Open In Colab\"/></a>"
      ]
    },
    {
      "cell_type": "code",
      "execution_count": null,
      "metadata": {
        "colab": {
          "base_uri": "https://localhost:8080/"
        },
        "id": "kBop8dpxEiqz",
        "outputId": "3cf4ad7e-4a35-48cf-ede6-51cbe3b8dcd9"
      },
      "outputs": [
        {
          "output_type": "stream",
          "name": "stdout",
          "text": [
            "=== Shopping List Manager ===\n",
            "1. Add item\n",
            "2. View items\n",
            "3. Remove item\n",
            "4. Count items\n",
            "5. Exit\n",
            "Choose option: 1\n",
            "Enter item: cube\n",
            "Item added!\n",
            "1. Add item\n",
            "2. View items\n",
            "3. Remove item\n",
            "4. Count items\n",
            "5. Exit\n",
            "Choose option: 1\n",
            "Enter item: laptop\n",
            "Item added!\n",
            "1. Add item\n",
            "2. View items\n",
            "3. Remove item\n",
            "4. Count items\n",
            "5. Exit\n",
            "Choose option: 4\n",
            "Total items: 2\n",
            "1. Add item\n",
            "2. View items\n",
            "3. Remove item\n",
            "4. Count items\n",
            "5. Exit\n",
            "Choose option: 1\n",
            "Enter item: books\n",
            "Item added!\n",
            "1. Add item\n",
            "2. View items\n",
            "3. Remove item\n",
            "4. Count items\n",
            "5. Exit\n",
            "Choose option: 1\n",
            "No more space!\n",
            "1. Add item\n",
            "2. View items\n",
            "3. Remove item\n",
            "4. Count items\n",
            "5. Exit\n",
            "Choose option: phone\n",
            "Wrong option!\n",
            "1. Add item\n",
            "2. View items\n",
            "3. Remove item\n",
            "4. Count items\n",
            "5. Exit\n",
            "Choose option: 5\n",
            "Goodbye!\n"
          ]
        }
      ],
      "source": [
        "print(\"=== Shopping List Manager ===\")\n",
        "\n",
        "item1 = \"\"\n",
        "item2 = \"\"\n",
        "item3 = \"\"\n",
        "count = 0\n",
        "\n",
        "while True:\n",
        "    print(\"1. Add item\")\n",
        "    print(\"2. View items\")\n",
        "    print(\"3. Remove item\")\n",
        "    print(\"4. Count items\")\n",
        "    print(\"5. Exit\")\n",
        "    choice = input(\"Choose option: \")\n",
        "\n",
        "    if choice == \"1\":\n",
        "        if item1 == \"\":\n",
        "            item1 = input(\"Enter item: \")\n",
        "            count = count + 1\n",
        "            print(\"Item added!\")\n",
        "        elif item2 == \"\":\n",
        "            item2 = input(\"Enter item: \")\n",
        "            count = count + 1\n",
        "            print(\"Item added!\")\n",
        "        elif item3 == \"\":\n",
        "            item3 = input(\"Enter item: \")\n",
        "            count = count + 1\n",
        "            print(\"Item added!\")\n",
        "        else:\n",
        "            print(\"No more space!\")\n",
        "\n",
        "    elif choice == \"2\":\n",
        "        print(\"Current items: \")\n",
        "        if item1 != \"\":\n",
        "            print(item1)\n",
        "        if item2 != \"\":\n",
        "            print(item2)\n",
        "        if item3 != \"\":\n",
        "            print(item3)\n",
        "\n",
        "    elif choice == \"3\":\n",
        "        rem = input(\"Enter item to remove: \")\n",
        "        if rem == item1:\n",
        "            item1 = \"\"\n",
        "            count = count - 1\n",
        "            print(\"Item removed!\")\n",
        "        elif rem == item2:\n",
        "            item2 = \"\"\n",
        "            count = count - 1\n",
        "            print(\"Item removed!\")\n",
        "        elif rem == item3:\n",
        "            item3 = \"\"\n",
        "            count = count - 1\n",
        "            print(\"Item removed!\")\n",
        "        else:\n",
        "            print(\"Item not found!\")\n",
        "\n",
        "    elif choice == \"4\":\n",
        "        print(\"Total items:\", count)\n",
        "\n",
        "    elif choice == \"5\":\n",
        "        print(\"Goodbye!\")\n",
        "        break\n",
        "    else:\n",
        "        print(\"Wrong option!\")\n"
      ]
    },
    {
      "cell_type": "code",
      "source": [
        "from google.colab import drive\n",
        "drive.mount('/content/drive')"
      ],
      "metadata": {
        "id": "_zbtMtR4IyXj"
      },
      "execution_count": null,
      "outputs": []
    }
  ]
}